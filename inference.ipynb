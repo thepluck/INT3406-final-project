{
 "cells": [
  {
   "cell_type": "code",
   "execution_count": 1,
   "id": "808dd932-4a6f-4790-817a-c3995f447dd0",
   "metadata": {},
   "outputs": [],
   "source": [
    "import evaluate\n",
    "from datasets import disable_caching, load_from_disk\n",
    "from transformers import (\n",
    "    AutoTokenizer,\n",
    "    pipeline,\n",
    ")\n",
    "from transformers.pipelines.pt_utils import KeyDataset"
   ]
  },
  {
   "cell_type": "code",
   "execution_count": 3,
   "id": "4519b31e-ecfc-4218-a61f-40cf135a3a53",
   "metadata": {},
   "outputs": [],
   "source": [
    "tokenizer = AutoTokenizer.from_pretrained(\"vinai/phobert-base-v2\")\n",
    "test = load_from_disk(\"data/test/\")\n",
    "\n",
    "accuracy = evaluate.load(\"accuracy\")"
   ]
  },
  {
   "cell_type": "code",
   "execution_count": 4,
   "id": "36547d55-87b2-419e-9ffe-0e87efe76516",
   "metadata": {},
   "outputs": [
    {
     "data": {
      "text/plain": [
       "{'accuracy': 0.81175}"
      ]
     },
     "execution_count": 4,
     "metadata": {},
     "output_type": "execute_result"
    }
   ],
   "source": [
    "classifier = pipeline(\n",
    "    task=\"text-classification\",\n",
    "    model=\"./SentimentPhoBERT\",\n",
    "    tokenizer=tokenizer,\n",
    "    device=0,\n",
    ")\n",
    "predictions = list(\n",
    "    classifier(\n",
    "        KeyDataset(test, \"sentence\"),\n",
    "        padding=True,\n",
    "        truncation=True,\n",
    "        max_length=256,\n",
    "        batch_size=8\n",
    "    )\n",
    ")\n",
    "predictions = [\n",
    "    int(prediction[\"label\"].replace(\"LABEL_\", \"\")) for prediction in predictions\n",
    "]\n",
    "accuracy.compute(predictions=predictions, references=test[\"labels\"])"
   ]
  }
 ],
 "metadata": {
  "kernelspec": {
   "display_name": "Python 3 (ipykernel)",
   "language": "python",
   "name": "python3"
  },
  "language_info": {
   "codemirror_mode": {
    "name": "ipython",
    "version": 3
   },
   "file_extension": ".py",
   "mimetype": "text/x-python",
   "name": "python",
   "nbconvert_exporter": "python",
   "pygments_lexer": "ipython3",
   "version": "3.9.18"
  }
 },
 "nbformat": 4,
 "nbformat_minor": 5
}
